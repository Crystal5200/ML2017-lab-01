{
 "cells": [
  {
   "cell_type": "code",
   "execution_count": 2,
   "metadata": {
    "collapsed": true
   },
   "outputs": [],
   "source": [
    "%matplotlib inline\n",
    "import numpy as np\n",
    "import matplotlib.pyplot as plt\n",
    "from numpy import *\n",
    "from sklearn.datasets import load_svmlight_file\n",
    "from sklearn.model_selection import train_test_split"
   ]
  },
  {
   "cell_type": "code",
   "execution_count": 3,
   "metadata": {
    "collapsed": true
   },
   "outputs": [],
   "source": [
    "X,y = load_svmlight_file(\"australian_scale.txt\")"
   ]
  },
  {
   "cell_type": "code",
   "execution_count": 4,
   "metadata": {},
   "outputs": [
    {
     "data": {
      "text/plain": [
       "(690, 14)"
      ]
     },
     "execution_count": 4,
     "metadata": {},
     "output_type": "execute_result"
    }
   ],
   "source": [
    "X.shape"
   ]
  },
  {
   "cell_type": "code",
   "execution_count": 5,
   "metadata": {},
   "outputs": [
    {
     "data": {
      "text/plain": [
       "(690,)"
      ]
     },
     "execution_count": 5,
     "metadata": {},
     "output_type": "execute_result"
    }
   ],
   "source": [
    "y.shape"
   ]
  },
  {
   "cell_type": "code",
   "execution_count": 6,
   "metadata": {
    "collapsed": true
   },
   "outputs": [],
   "source": [
    "X0=ones((690,1))"
   ]
  },
  {
   "cell_type": "code",
   "execution_count": 7,
   "metadata": {},
   "outputs": [],
   "source": [
    "# X=column_stack((X0,X))"
   ]
  },
  {
   "cell_type": "code",
   "execution_count": 8,
   "metadata": {
    "collapsed": true
   },
   "outputs": [],
   "source": [
    "X_train, X_test, y_train, y_test = train_test_split(X, y, test_size=0.2)"
   ]
  },
  {
   "cell_type": "code",
   "execution_count": 9,
   "metadata": {
    "collapsed": true
   },
   "outputs": [],
   "source": [
    "def sigmoid(z):\n",
    "    return 1.0/(1+exp(-z))"
   ]
  },
  {
   "cell_type": "code",
   "execution_count": 10,
   "metadata": {
    "collapsed": true
   },
   "outputs": [],
   "source": [
    "def J(theta,X,y):\n",
    "    m,n=X.shape\n",
    "    h=sigmoid(X*theta)\n",
    "    J= (-1/m)* (log(h).T *y+log(1-h).T  *(1-y))\n",
    "        #if np.isnan(J[0]):\n",
    "         #   return (np.inf)\n",
    "        #return J.flatten()[0,0]\n"
   ]
  },
  {
   "cell_type": "code",
   "execution_count": 12,
   "metadata": {
    "collapsed": true
   },
   "outputs": [],
   "source": [
    "def gd(rate,maxLoop,X,y):\n",
    "    m,n=X.shape\n",
    "  \n",
    "    theta=ones((n,1))\n",
    "    count=0            #迭代次数\n",
    "    converged=False\n",
    "    error=float('inf')           #初始化误差无限大\n",
    "    errors=[]                    #记录误差变化\n",
    "    thetas = {}                 #记录参数变化\n",
    "    for j in range(n):          #\n",
    "        thetas[j] = [theta[j,0]]\n",
    "        \n",
    "    while count<=maxLoop:\n",
    "        \n",
    "        h= sigmoid(X*theta)\n",
    "        diff= h - y\n",
    "        print(diff.shape)    #\n",
    "        count = count + 1\n",
    "        for j in range(n):\n",
    "            G = X.T*diff/m          #求梯度G\n",
    "            D = -G                           #梯度负方向\n",
    "            theta = theta-rate*D            #梯度下降\n",
    "            thetas[j].append(theta[j,0])    \n",
    "        error = J(theta, X, y)             \n",
    "        errors.append(error)           #更errors数组\n",
    "        \n",
    "        # if(error < epsilon):\n",
    "        #   converged = True\n",
    "    plt.plot(errors)\n",
    "    plt.ylabel('error')\n",
    "    plt.xlabel('count')\n",
    "    plt.title('convergence graph')\n",
    "    return errors    "
   ]
  },
  {
   "cell_type": "code",
   "execution_count": 15,
   "metadata": {},
   "outputs": [
    {
     "name": "stdout",
     "output_type": "stream",
     "text": [
      "(690, 690)\n",
      "(690, 690)\n",
      "(690, 690)\n",
      "(690, 690)\n",
      "(690, 690)\n",
      "(690, 690)\n"
     ]
    },
    {
     "data": {
      "text/plain": [
       "[None, None, None, None, None, None]"
      ]
     },
     "execution_count": 15,
     "metadata": {},
     "output_type": "execute_result"
    },
    {
     "data": {
      "image/png": "[encoded data removed]",
      "text/plain": [
       "<matplotlib.figure.Figure at 0x19ebca6fbe0>"
      ]
     },
     "metadata": {},
     "output_type": "display_data"
    }
   ],
   "source": [
    "gd(0.001,5,X,y)"
   ]
  },
  {
   "cell_type": "code",
   "execution_count": null,
   "metadata": {
    "collapsed": true
   },
   "outputs": [],
   "source": []
  },
  {
   "cell_type": "code",
   "execution_count": null,
   "metadata": {
    "collapsed": true
   },
   "outputs": [],
   "source": []
  }
 ],
 "metadata": {
  "kernelspec": {
   "display_name": "Python 3",
   "language": "python",
   "name": "python3"
  },
  "language_info": {
   "codemirror_mode": {
    "name": "ipython",
    "version": 3
   },
   "file_extension": ".py",
   "mimetype": "text/x-python",
   "name": "python",
   "nbconvert_exporter": "python",
   "pygments_lexer": "ipython3",
   "version": "3.6.2"
  }
 },
 "nbformat": 4,
 "nbformat_minor": 2
}
